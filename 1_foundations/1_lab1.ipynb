{
 "cells": [
  {
   "cell_type": "markdown",
   "metadata": {},
   "source": [
    "# Welcome to the start of your adventure in Agentic AI"
   ]
  },
  {
   "cell_type": "markdown",
   "metadata": {},
   "source": [
    "<table style=\"margin: 0; text-align: left; width:100%\">\n",
    "    <tr>\n",
    "        <td style=\"width: 150px; height: 150px; vertical-align: middle;\">\n",
    "            <img src=\"../assets/stop.png\" width=\"150\" height=\"150\" style=\"display: block;\" />\n",
    "        </td>\n",
    "        <td>\n",
    "            <h2 style=\"color:#ff7800;\">Are you ready for action??</h2>\n",
    "            <span style=\"color:#ff7800;\">Have you completed all the setup steps in the <a href=\"../setup/\">setup</a> folder?<br/>\n",
    "            Have you checked out the guides in the <a href=\"../guides/01_intro.ipynb\">guides</a> folder?<br/>\n",
    "            Well in that case, you're ready!!\n",
    "            </span>\n",
    "        </td>\n",
    "    </tr>\n",
    "</table>"
   ]
  },
  {
   "cell_type": "markdown",
   "metadata": {},
   "source": [
    "<table style=\"margin: 0; text-align: left; width:100%\">\n",
    "    <tr>\n",
    "        <td style=\"width: 150px; height: 150px; vertical-align: middle;\">\n",
    "            <img src=\"../assets/tools.png\" width=\"150\" height=\"150\" style=\"display: block;\" />\n",
    "        </td>\n",
    "        <td>\n",
    "            <h2 style=\"color:#00bfff;\">This code is a live resource - keep an eye out for my updates</h2>\n",
    "            <span style=\"color:#00bfff;\">I push updates regularly. As people ask questions or have problems, I add more examples and improve explanations. As a result, the code below might not be identical to the videos, as I've added more steps and better comments. Consider this like an interactive book that accompanies the lectures.<br/><br/>\n",
    "            I try to send emails regularly with important updates related to the course. You can find this in the 'Announcements' section of Udemy in the left sidebar. You can also choose to receive my emails via your Notification Settings in Udemy. I'm respectful of your inbox and always try to add value with my emails!\n",
    "            </span>\n",
    "        </td>\n",
    "    </tr>\n",
    "</table>"
   ]
  },
  {
   "cell_type": "markdown",
   "metadata": {},
   "source": [
    "### And please do remember to contact me if I can help\n",
    "\n",
    "And I love to connect: https://www.linkedin.com/in/eddonner/\n",
    "\n",
    "\n",
    "### New to Notebooks like this one? Head over to the guides folder!\n",
    "\n",
    "Just to check you've already added the Python and Jupyter extensions to Cursor, if not already installed:\n",
    "- Open extensions (View >> extensions)\n",
    "- Search for python, and when the results show, click on the ms-python one, and Install it if not already installed\n",
    "- Search for jupyter, and when the results show, click on the Microsoft one, and Install it if not already installed  \n",
    "Then View >> Explorer to bring back the File Explorer.\n",
    "\n",
    "And then:\n",
    "1. Click where it says \"Select Kernel\" near the top right, and select the option called `.venv (Python 3.12.9)` or similar, which should be the first choice or the most prominent choice. You may need to choose \"Python Environments\" first.\n",
    "2. Click in each \"cell\" below, starting with the cell immediately below this text, and press Shift+Enter to run\n",
    "3. Enjoy!\n",
    "\n",
    "After you click \"Select Kernel\", if there is no option like `.venv (Python 3.12.9)` then please do the following:  \n",
    "1. On Mac: From the Cursor menu, choose Settings >> VS Code Settings (NOTE: be sure to select `VSCode Settings` not `Cursor Settings`);  \n",
    "On Windows PC: From the File menu, choose Preferences >> VS Code Settings(NOTE: be sure to select `VSCode Settings` not `Cursor Settings`)  \n",
    "2. In the Settings search bar, type \"venv\"  \n",
    "3. In the field \"Path to folder with a list of Virtual Environments\" put the path to the project root, like C:\\Users\\username\\projects\\agents (on a Windows PC) or /Users/username/projects/agents (on Mac or Linux).  \n",
    "And then try again.\n",
    "\n",
    "Having problems with missing Python versions in that list? Have you ever used Anaconda before? It might be interferring. Quit Cursor, bring up a new command line, and make sure that your Anaconda environment is deactivated:    \n",
    "`conda deactivate`  \n",
    "And if you still have any problems with conda and python versions, it's possible that you will need to run this too:  \n",
    "`conda config --set auto_activate_base false`  \n",
    "and then from within the Agents directory, you should be able to run `uv python list` and see the Python 3.12 version."
   ]
  },
  {
   "cell_type": "code",
   "execution_count": 1,
   "metadata": {},
   "outputs": [],
   "source": [
    "# First let's do an import\n",
    "from dotenv import load_dotenv\n"
   ]
  },
  {
   "cell_type": "code",
   "execution_count": 2,
   "metadata": {},
   "outputs": [
    {
     "data": {
      "text/plain": [
       "True"
      ]
     },
     "execution_count": 2,
     "metadata": {},
     "output_type": "execute_result"
    }
   ],
   "source": [
    "# Next it's time to load the API keys into environment variables\n",
    "\n",
    "load_dotenv(override=True)"
   ]
  },
  {
   "cell_type": "code",
   "execution_count": 3,
   "metadata": {},
   "outputs": [
    {
     "name": "stdout",
     "output_type": "stream",
     "text": [
      "OpenAI API Key exists and begins sk-proj-\n"
     ]
    }
   ],
   "source": [
    "# Check the keys\n",
    "\n",
    "import os\n",
    "openai_api_key = os.getenv('OPENAI_API_KEY')\n",
    "\n",
    "if openai_api_key:\n",
    "    print(f\"OpenAI API Key exists and begins {openai_api_key[:8]}\")\n",
    "else:\n",
    "    print(\"OpenAI API Key not set - please head to the troubleshooting guide in the setup folder\")\n",
    "    \n"
   ]
  },
  {
   "cell_type": "code",
   "execution_count": 4,
   "metadata": {},
   "outputs": [],
   "source": [
    "# And now - the all important import statement\n",
    "# If you get an import error - head over to troubleshooting guide\n",
    "\n",
    "from openai import OpenAI"
   ]
  },
  {
   "cell_type": "code",
   "execution_count": 5,
   "metadata": {},
   "outputs": [],
   "source": [
    "# And now we'll create an instance of the OpenAI class\n",
    "# If you're not sure what it means to create an instance of a class - head over to the guides folder!\n",
    "# If you get a NameError - head over to the guides folder to learn about NameErrors\n",
    "\n",
    "openai = OpenAI()"
   ]
  },
  {
   "cell_type": "code",
   "execution_count": 6,
   "metadata": {},
   "outputs": [],
   "source": [
    "# Create a list of messages in the familiar OpenAI format\n",
    "\n",
    "messages = [{\"role\": \"user\", \"content\": \"What is 2+2?\"}]"
   ]
  },
  {
   "cell_type": "code",
   "execution_count": 8,
   "metadata": {},
   "outputs": [
    {
     "name": "stdout",
     "output_type": "stream",
     "text": [
      "2 + 2 equals 4.\n"
     ]
    }
   ],
   "source": [
    "# And now call it! Any problems, head to the troubleshooting guide\n",
    "# This uses GPT 4.1 nano, the incredibly cheap model\n",
    "\n",
    "response = openai.chat.completions.create(\n",
    "    model=\"gpt-4.1-nano\",\n",
    "    messages=messages\n",
    ")\n",
    "\n",
    "print(response.choices[0].message.content)\n"
   ]
  },
  {
   "cell_type": "code",
   "execution_count": 9,
   "metadata": {},
   "outputs": [],
   "source": [
    "# And now - let's ask for a question:\n",
    "\n",
    "question = \"Please propose a hard, challenging question to assess someone's IQ. Respond only with the question.\"\n",
    "messages = [{\"role\": \"user\", \"content\": question}]\n"
   ]
  },
  {
   "cell_type": "code",
   "execution_count": 10,
   "metadata": {},
   "outputs": [
    {
     "name": "stdout",
     "output_type": "stream",
     "text": [
      "If five machines take five minutes to make five widgets, how long would 100 machines take to make 100 widgets?\n"
     ]
    }
   ],
   "source": [
    "# ask it - this uses GPT 4.1 mini, still cheap but more powerful than nano\n",
    "\n",
    "response = openai.chat.completions.create(\n",
    "    model=\"gpt-4.1-mini\",\n",
    "    messages=messages\n",
    ")\n",
    "\n",
    "question = response.choices[0].message.content\n",
    "\n",
    "print(question)\n"
   ]
  },
  {
   "cell_type": "code",
   "execution_count": 11,
   "metadata": {},
   "outputs": [],
   "source": [
    "# form a new messages list\n",
    "messages = [{\"role\": \"user\", \"content\": question}]\n"
   ]
  },
  {
   "cell_type": "code",
   "execution_count": 12,
   "metadata": {},
   "outputs": [
    {
     "name": "stdout",
     "output_type": "stream",
     "text": [
      "Let's break down the problem:\n",
      "\n",
      "- Five machines take five minutes to make five widgets.\n",
      "- We want to find out how long 100 machines take to make 100 widgets.\n",
      "\n",
      "**Step 1: Understand the rate of production per machine.**\n",
      "\n",
      "If 5 machines make 5 widgets in 5 minutes, then:\n",
      "\n",
      "- Total widgets made = 5\n",
      "- Total machines = 5\n",
      "- Total time = 5 minutes\n",
      "\n",
      "Rate per machine = (widgets) / (machines × time)  \n",
      "= 5 widgets / (5 machines × 5 minutes)  \n",
      "= 5 / 25  \n",
      "= 0.2 widgets per machine per minute.\n",
      "\n",
      "So, each machine makes 0.2 widgets per minute.\n",
      "\n",
      "**Step 2: Calculate the time 100 machines take to make 100 widgets.**\n",
      "\n",
      "Each machine makes 0.2 widgets per minute, so 100 machines make:  \n",
      "0.2 widgets/minute/machine × 100 machines = 20 widgets per minute.\n",
      "\n",
      "To make 100 widgets at 20 widgets per minute takes:  \n",
      "100 widgets / 20 widgets per minute = 5 minutes.\n",
      "\n",
      "**Answer:**\n",
      "\n",
      "It would take **5 minutes** for 100 machines to make 100 widgets.\n"
     ]
    }
   ],
   "source": [
    "# Ask it again\n",
    "\n",
    "response = openai.chat.completions.create(\n",
    "    model=\"gpt-4.1-mini\",\n",
    "    messages=messages\n",
    ")\n",
    "\n",
    "answer = response.choices[0].message.content\n",
    "print(answer)\n"
   ]
  },
  {
   "cell_type": "code",
   "execution_count": 13,
   "metadata": {},
   "outputs": [
    {
     "data": {
      "text/markdown": [
       "Let's break down the problem:\n",
       "\n",
       "- Five machines take five minutes to make five widgets.\n",
       "- We want to find out how long 100 machines take to make 100 widgets.\n",
       "\n",
       "**Step 1: Understand the rate of production per machine.**\n",
       "\n",
       "If 5 machines make 5 widgets in 5 minutes, then:\n",
       "\n",
       "- Total widgets made = 5\n",
       "- Total machines = 5\n",
       "- Total time = 5 minutes\n",
       "\n",
       "Rate per machine = (widgets) / (machines × time)  \n",
       "= 5 widgets / (5 machines × 5 minutes)  \n",
       "= 5 / 25  \n",
       "= 0.2 widgets per machine per minute.\n",
       "\n",
       "So, each machine makes 0.2 widgets per minute.\n",
       "\n",
       "**Step 2: Calculate the time 100 machines take to make 100 widgets.**\n",
       "\n",
       "Each machine makes 0.2 widgets per minute, so 100 machines make:  \n",
       "0.2 widgets/minute/machine × 100 machines = 20 widgets per minute.\n",
       "\n",
       "To make 100 widgets at 20 widgets per minute takes:  \n",
       "100 widgets / 20 widgets per minute = 5 minutes.\n",
       "\n",
       "**Answer:**\n",
       "\n",
       "It would take **5 minutes** for 100 machines to make 100 widgets."
      ],
      "text/plain": [
       "<IPython.core.display.Markdown object>"
      ]
     },
     "metadata": {},
     "output_type": "display_data"
    }
   ],
   "source": [
    "from IPython.display import Markdown, display\n",
    "\n",
    "display(Markdown(answer))\n",
    "\n"
   ]
  },
  {
   "cell_type": "markdown",
   "metadata": {},
   "source": [
    "# Congratulations!\n",
    "\n",
    "That was a small, simple step in the direction of Agentic AI, with your new environment!\n",
    "\n",
    "Next time things get more interesting..."
   ]
  },
  {
   "cell_type": "markdown",
   "metadata": {},
   "source": [
    "<table style=\"margin: 0; text-align: left; width:100%\">\n",
    "    <tr>\n",
    "        <td style=\"width: 150px; height: 150px; vertical-align: middle;\">\n",
    "            <img src=\"../assets/exercise.png\" width=\"150\" height=\"150\" style=\"display: block;\" />\n",
    "        </td>\n",
    "        <td>\n",
    "            <h2 style=\"color:#ff7800;\">Exercise</h2>\n",
    "            <span style=\"color:#ff7800;\">Now try this commercial application:<br/>\n",
    "            First ask the LLM to pick a business area that might be worth exploring for an Agentic AI opportunity.<br/>\n",
    "            Then ask the LLM to present a pain-point in that industry - something challenging that might be ripe for an Agentic solution.<br/>\n",
    "            Finally have 3 third LLM call propose the Agentic AI solution.\n",
    "            </span>\n",
    "        </td>\n",
    "    </tr>\n",
    "</table>"
   ]
  },
  {
   "cell_type": "code",
   "execution_count": 18,
   "metadata": {},
   "outputs": [
    {
     "data": {
      "text/markdown": [
       "One promising banking business area for exploring an Agentic AI opportunity is **Retail Banking Customer Service and Personal Financial Management**.\n",
       "\n",
       "### Why this area?\n",
       "- **High volume of customer interactions:** Retail banking involves millions of customers with diverse financial needs, from checking accounts to loans and investments.\n",
       "- **Complex, repetitive tasks:** Many customer queries are routine but require personalized responses.\n",
       "- **Demand for 24/7 support:** Customers expect instant, around-the-clock assistance.\n",
       "- **Opportunity for proactive financial advice:** Beyond reactive support, there is a growing need to provide personalized, proactive financial recommendations.\n",
       "  \n",
       "### How could Agentic AI add value?\n",
       "- **Autonomous customer engagement:** An Agentic AI can independently handle account inquiries, troubleshoot problems, guide onboarding processes, and manage routine transactions without human intervention.\n",
       "- **Personalized financial management:** The AI can analyze spending patterns, detect unusual activity, and proactively suggest budgeting, saving, or investment strategies tailored to the individual.\n",
       "- **Cross-selling and upselling:** By understanding customer profiles and behaviors, the AI can autonomously recommend relevant products (like credit cards, loans, or insurance) at appropriate times.\n",
       "- **Fraud detection and security:** Acting in real-time, the AI can identify suspicious activities and take immediate preventive actions, such as temporarily freezing accounts or notifying customers.\n",
       "- **Continuous learning and adaptation:** The AI agent can continuously learn from new data and customer feedback to improve its assistance quality.\n",
       "\n",
       "### Example use case\n",
       "An Agentic AI acting as a “Virtual Financial Concierge” that autonomously manages day-to-day banking needs, provides tailored advice, and detects security threats — delivering a seamless and intelligent customer experience at scale.\n",
       "\n",
       "---\n",
       "\n",
       "If you'd like, I can help outline a more detailed business case or technical approach for such an Agentic AI system in retail banking."
      ],
      "text/plain": [
       "<IPython.core.display.Markdown object>"
      ]
     },
     "metadata": {},
     "output_type": "display_data"
    },
    {
     "data": {
      "text/markdown": [
       "Certainly! To provide a relevant pain-point, could you please specify which industry you're referring to?"
      ],
      "text/plain": [
       "<IPython.core.display.Markdown object>"
      ]
     },
     "metadata": {},
     "output_type": "display_data"
    },
    {
     "data": {
      "text/markdown": [
       "Certainly! Here’s a proposal for an **Agentic AI solution**, which focuses on creating AI systems capable of autonomous goal-setting, planning, and decision-making with an ability to interact dynamically with their environment:\n",
       "\n",
       "---\n",
       "\n",
       "### Proposal for an Agentic AI Solution\n",
       "\n",
       "**Objective:**  \n",
       "Develop an Agentic AI system that can autonomously perceive its environment, set goals aligned with user intentions or higher-level objectives, plan actions, and adaptively execute tasks with minimal human intervention.\n",
       "\n",
       "---\n",
       "\n",
       "### Key Components:\n",
       "\n",
       "1. **Perception Module**  \n",
       "   - Utilizes sensors (e.g., cameras, text input, APIs) to gather real-world or digital environment data.  \n",
       "   - Employs multimodal understanding (vision, language, audio) for rich context awareness.\n",
       "\n",
       "2. **Goal Management System**  \n",
       "   - Enables dynamic formulation and prioritization of goals based on user input, environmental changes, and learned experience.  \n",
       "   - Supports hierarchical goals (long-term objectives and short-term sub-goals).\n",
       "\n",
       "3. **Planning and Reasoning Engine**  \n",
       "   - Generates actionable plans using techniques such as symbolic reasoning, reinforcement learning, or classical planning algorithms.  \n",
       "   - Incorporates contingency handling and real-time replanning to adapt to unexpected changes.\n",
       "\n",
       "4. **Action Execution Interface**  \n",
       "   - Executes decisions via APIs, robotic actuators, software agents, or communication protocols to effect change in the environment.  \n",
       "   - Monitors the outcome of actions to ensure goal progression.\n",
       "\n",
       "5. **Learning and Adaptation Module**  \n",
       "   - Continuously learns from environments and outcomes to improve planning and decision-making effectiveness.  \n",
       "   - Incorporates feedback loops and human-in-the-loop correction where appropriate.\n",
       "\n",
       "6. **Safety and Ethical Framework**  \n",
       "   - Embeds safeguards to align outcomes with ethical guidelines, user preferences, and regulatory constraints.  \n",
       "   - Uses interpretability tools to maintain transparency in agent decisions.\n",
       "\n",
       "---\n",
       "\n",
       "### Example Use Cases:\n",
       "\n",
       "- **Personal Assistant**: An agent that autonomously manages your schedule, communications, and personal tasks by setting priorities and learning preferences over time.  \n",
       "- **Autonomous Robotics**: Robots capable of navigating complex environments, performing maintenance, or interacting with humans with minimal supervision.  \n",
       "- **Business Process Automation**: AI agents that identify bottlenecks and optimize workflows without explicit step-by-step programming.\n",
       "\n",
       "---\n",
       "\n",
       "### Implementation Roadmap:\n",
       "\n",
       "1. **Proof of Concept**  \n",
       "   - Build simple environment perception and goal-setting prototypes using existing LLM APIs and planning frameworks.\n",
       "\n",
       "2. **Modular Architecture Development**  \n",
       "   - Develop independent modules for perception, planning, and execution with defined APIs for interoperability.\n",
       "\n",
       "3. **Integration and Testing**  \n",
       "   - Integrate components into a unified agent capable of closed-loop autonomous behavior.  \n",
       "   - Test in simulated and controlled real-world environments.\n",
       "\n",
       "4. **Scalability and Robustness Enhancements**  \n",
       "   - Improve learning capabilities, safety mechanisms, and interaction interfaces.\n",
       "\n",
       "5. **Deployment & Monitoring**  \n",
       "   - Deploy in target applications with monitoring dashboards and user feedback channels for continuous improvement.\n",
       "\n",
       "---\n",
       "\n",
       "Would you like me to help design a specific Agentic AI system tailored to a particular domain or use case?"
      ],
      "text/plain": [
       "<IPython.core.display.Markdown object>"
      ]
     },
     "metadata": {},
     "output_type": "display_data"
    }
   ],
   "source": [
    "# First create the messages:\n",
    "question1 = \"Pick a banking business area that might be worth exploring for an Agentic AI opportunity\"\n",
    "messages = [{\"role\": \"user\", \"content\": question1}]\n",
    "\n",
    "# Then make the first call:\n",
    "\n",
    "response  = openai.chat.completions.create(\n",
    "    model=\"gpt-4.1-mini\",\n",
    "    messages=messages\n",
    ")\n",
    "\n",
    "# Then read the business idea:\n",
    "\n",
    "business_idea = response.choices[0].message.content\n",
    "\n",
    "\n",
    "display(Markdown(business_idea))\n",
    "\n",
    "question2 = \"ask the LLM to present a pain-point in that industry - something challenging that might be ripe for an Agentic solution\"\n",
    "messages = [{\"role\": \"user\", \"content\": question2}]\n",
    "\n",
    "response2 = openai.chat.completions.create(\n",
    "    model=\"gpt-4.1-mini\",\n",
    "    messages=messages\n",
    ")\n",
    "\n",
    "pain_point = response2.choices[0].message.content\n",
    "\n",
    "display(Markdown(pain_point))\n",
    "\n",
    "question3 = \"ask the LLM to propose the Agentic AI solution\"\n",
    "messages = [{\"role\": \"user\", \"content\": question3}]\n",
    "\n",
    "response3 = openai.chat.completions.create(\n",
    "    model=\"gpt-4.1-mini\",\n",
    "    messages=messages\n",
    ")\n",
    "\n",
    "agentic_solution = response3.choices[0].message.content\n",
    "\n",
    "display(Markdown(agentic_solution))\n",
    "\n",
    "# And repeat!"
   ]
  },
  {
   "cell_type": "markdown",
   "metadata": {},
   "source": []
  }
 ],
 "metadata": {
  "kernelspec": {
   "display_name": ".venv",
   "language": "python",
   "name": "python3"
  },
  "language_info": {
   "codemirror_mode": {
    "name": "ipython",
    "version": 3
   },
   "file_extension": ".py",
   "mimetype": "text/x-python",
   "name": "python",
   "nbconvert_exporter": "python",
   "pygments_lexer": "ipython3",
   "version": "3.12.7"
  }
 },
 "nbformat": 4,
 "nbformat_minor": 2
}
